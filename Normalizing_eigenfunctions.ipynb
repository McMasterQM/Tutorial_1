{
 "cells": [
  {
   "cell_type": "markdown",
   "id": "733f9490",
   "metadata": {},
   "source": [
    "# Normalizing wavefunctions"
   ]
  },
  {
   "cell_type": "markdown",
   "id": "3f82d928",
   "metadata": {},
   "source": [
    "Let's solve one dimentional problem problem for particle inside the infinite potential\n",
    "\n",
    "![Wavefunction gif](https://upload.wikimedia.org/wikipedia/commons/8/8f/InfiniteSquareWellAnimation.gif \"The wavefunctions of the 1-dimensional particle in a box, both classically and quantum-mechanically\")\n",
    "To find the wavefunctions for a system, one solves the Schr&ouml;dinger equation. For a particle of mass $m$ in a one-dimensional box, the (time-independent) Schr&ouml;dinger equation is:\n",
    "\n",
    "$$ \n",
    "\\left(-\\frac{\\hbar^2}{2m} \\frac{d^2}{dx^2} + V(x) \\right)\\psi_n(x) = E_n \\psi_n(x)\n",
    "$$\n",
    "\n",
    "where \n",
    "\n",
    "$$\n",
    "V(x) = \n",
    "\\begin{cases}\n",
    "    +\\infty & x\\leq 0\\\\\n",
    "    0       & 0\\lt x \\lt a\\\\\n",
    "    +\\infty & a \\leq x\n",
    "\\end{cases}\n",
    "$$\n",
    "\n",
    "**Because it's impossible for the electron to get outside the box**, one can declare that $\\psi(x) = 0$ except when the electron is inside the box ($0 < x < a$), so we only need to consider the Schr&ouml;dinger equation inside the box: \n",
    "\n",
    "$$ \n",
    "\\left(-\\frac{\\hbar^2}{2m} \\frac{d^2}{dx^2} \\right)\\psi_n(x) = E_n \\psi_n(x)\n",
    "$$\n",
    "\n",
    "There are systematic ways to solve this equation, but let's solve it by inspection. That is, we need to know:\n",
    "> Question: What function(s), when differentiated twice, are proportional to themselves?\\\n",
    "\n",
    "This suggests that the eigenfunctions of the 1-dimensional particle-in-a-box must be some linear combination of sine and cosine functions, \n",
    "\n",
    "$$\n",
    "\\psi_n(x) = A \\sin(cx) + B  \\cos(dx)\n",
    "$$\n",
    "\n",
    "We know that the wavefunction must be zero at the edges of the box, $\\psi(0) = 0$ and $\\psi(a) = 0$. These are called the *boundary conditions* for the problem. Examining the first boundary condition,\n",
    "\n",
    "$$\n",
    "0 = \\psi(0) = A \\sin(0) + B \\cos(0) = 0 + B\n",
    "$$\n",
    "\n",
    "indicates that $B=0$. The second boundary condition \n",
    "\n",
    "$$\n",
    "0 = \\psi(a) = A \\sin(ca)\n",
    "$$\n",
    "\n",
    "requires us to recall that $\\sin(x) = 0$ whenever $x$ is an integer multiple of $\\pi$. So $c=n\\pi$ where $n=1,2,3,\\ldots$. The wavefunction for the particle in a box is thus,\n",
    "\n",
    "$$\n",
    "\\psi_n(x) = A_n \\sin\\left(\\tfrac{n \\pi x}{a}\\right) \\qquad \\qquad n=1,2,3,\\ldots\n",
    "$$\n",
    "\n",
    "\n",
    "### Task:\n",
    "> In quantum mechanics we treating the complex square of wavefunction as the probability of finding particle somewhere in the space. Because the probability of finding particle at least somwhere in the space we can write the following:\n",
    "\n",
    "$$\n",
    "\\int_{-\\infty}^{\\infty} \\left|\\psi(x)\\right|^2 dx = 1.\n",
    "$$\n",
    "In other words:\n",
    "\n",
    "$$\n",
    "\\begin{align}\n",
    "1 &= \\int_{-\\infty}^{\\infty} \\left|\\psi_n(x)\\right|^2 dx  \\\\\n",
    "&= \\int_0^a \\psi_n(x) \\psi_n^*(x) dx \\\\\n",
    "&= \\int_0^a A_n \\sin\\left(\\tfrac{n \\pi x}{a}\\right) \\left(A_n \\sin\\left(\\tfrac{n \\pi x}{a}\\right) \\right)^* dx \\\\\n",
    "&= \\left|A_n\\right|^2\\int_0^a \\sin^2\\left(\\tfrac{n \\pi x}{a}\\right) dx\n",
    "\\end{align}\n",
    "$$\n",
    "\n",
    "\n",
    ">**Your task is to calculate the explicit equation for normalization constant and fill the empty gaps in `compute_wavefunction` function in the cell below**"
   ]
  },
  {
   "cell_type": "code",
   "execution_count": 17,
   "id": "430dbbd9",
   "metadata": {},
   "outputs": [],
   "source": [
    "import numpy as np\n",
    "\n",
    "\n",
    "def compute_wavefunction(x, n, a):\n",
    "    \"\"\"Compute 1-dimensional particle-in-a-box wave-function value(s).\n",
    "    \n",
    "    Parameters\n",
    "    ----------\n",
    "    x: float or np.ndarray\n",
    "        Position of the particle.\n",
    "    n: int\n",
    "        Quantum number value.\n",
    "    a: float \n",
    "        Length of the box.\n",
    "    \"\"\"\n",
    "    # check argument n\n",
    "    if not (isinstance(n, int) and n > 0):\n",
    "        raise ValueError(\"Argument n should be a positive integer.\")\n",
    "    # check argument a\n",
    "    if a <= 0.0:\n",
    "        raise ValueError(\"Argument a should be positive.\")\n",
    "    # check argument x\n",
    "    if not (isinstance(x, float) or hasattr(x, \"__iter__\")):\n",
    "        raise ValueError(\"Argument x should be a float or an array!\")\n",
    "        \n",
    "    # compute wave-function\n",
    "    ### START CODE HERE\n",
    "    A_n = \n",
    "    \n",
    "    ### END CODE HERE\n",
    "    \n",
    "    psi = A_n * np.sin(n * np.pi * x / a)\n",
    "\n",
    "    # set wave-function values out of the box equal to zero\n",
    "    if hasattr(x, \"__iter__\"):\n",
    "        psi[x > a] = 0.0\n",
    "        psi[x < 0] = 0.0\n",
    "    else:\n",
    "        if x < 0.0 or x > a:\n",
    "            psi = 0.0\n",
    "    return psi"
   ]
  },
  {
   "cell_type": "markdown",
   "id": "beec43ef",
   "metadata": {},
   "source": [
    "## Here you can check the result"
   ]
  },
  {
   "cell_type": "code",
   "execution_count": 18,
   "id": "2fb4c65b",
   "metadata": {},
   "outputs": [
    {
     "name": "stdout",
     "output_type": "stream",
     "text": [
      "1.4142135623730951\n"
     ]
    }
   ],
   "source": [
    "x = 0.5\n",
    "n = 1\n",
    "a = 1\n",
    "\n",
    "print(compute_wavefunction(x, n, a))"
   ]
  }
 ],
 "metadata": {
  "kernelspec": {
   "display_name": "Python 3",
   "language": "python",
   "name": "python3"
  },
  "language_info": {
   "codemirror_mode": {
    "name": "ipython",
    "version": 3
   },
   "file_extension": ".py",
   "mimetype": "text/x-python",
   "name": "python",
   "nbconvert_exporter": "python",
   "pygments_lexer": "ipython3",
   "version": "3.7.3"
  }
 },
 "nbformat": 4,
 "nbformat_minor": 5
}
